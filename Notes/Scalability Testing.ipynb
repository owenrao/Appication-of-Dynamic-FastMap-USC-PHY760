{
 "cells": [
  {
   "cell_type": "code",
   "execution_count": null,
   "metadata": {},
   "outputs": [],
   "source": []
  },
  {
   "cell_type": "code",
   "execution_count": 2,
   "metadata": {},
   "outputs": [],
   "source": [
    "import networkx as nx\n",
    "import random\n",
    "import numpy as np\n",
    "import pickle\n",
    "import matplotlib.pyplot as plt\n",
    "from time import time"
   ]
  },
  {
   "cell_type": "markdown",
   "metadata": {},
   "source": [
    "# Datasets"
   ]
  },
  {
   "cell_type": "code",
   "execution_count": 3,
   "metadata": {},
   "outputs": [],
   "source": [
    "#Facebook Dataset\n",
    "dir = \"C:/Users/ruiji/Documents/USC/Research/PHY760/Data/Social Networks/Facebook/\""
   ]
  },
  {
   "cell_type": "code",
   "execution_count": 4,
   "metadata": {},
   "outputs": [],
   "source": [
    "GraphType = nx.Graph()"
   ]
  },
  {
   "cell_type": "code",
   "execution_count": 5,
   "metadata": {},
   "outputs": [],
   "source": [
    "FB_Net = nx.read_edgelist(\n",
    "    dir+\"facebook_combined.txt\", \n",
    "    create_using=GraphType,\n",
    "    nodetype=int\n",
    ")"
   ]
  },
  {
   "cell_type": "markdown",
   "metadata": {},
   "source": [
    "# Func"
   ]
  },
  {
   "cell_type": "code",
   "execution_count": 6,
   "metadata": {},
   "outputs": [],
   "source": [
    "\n",
    "  \n",
    "  \n",
    "def timer_func(func):\n",
    "    # This function shows the execution time of \n",
    "    # the function object passed\n",
    "    def wrap_func(*args, **kwargs):\n",
    "        t1 = time()\n",
    "        result = func(*args, **kwargs)\n",
    "        t2 = time()\n",
    "        print(f'Function {func.__name__!r} executed in {(t2-t1):.4f}s')\n",
    "        return result\n",
    "    return wrap_func"
   ]
  },
  {
   "cell_type": "code",
   "execution_count": 7,
   "metadata": {},
   "outputs": [],
   "source": [
    "def gen_rand_subgraphs(graph,N=10,size=200):\n",
    "    result = []\n",
    "    random_source_nodes = random.sample(graph.nodes,N)\n",
    "    for node in random_source_nodes:\n",
    "        remain_nodes = list(nx.shortest_path(graph, source=node).keys())[:size]\n",
    "        subgraph = graph.subgraph(remain_nodes).copy()\n",
    "        result.append(subgraph)\n",
    "    return result"
   ]
  },
  {
   "cell_type": "code",
   "execution_count": 8,
   "metadata": {},
   "outputs": [],
   "source": [
    "def plot(map_result,keywords_list,m=2,annotate=True,node=None,membership='blue'):\n",
    "    ax_min = np.min(map_result)*1.2\n",
    "    ax_max = np.max(map_result)*1.2\n",
    "    fig = plt.figure(figsize=(12,10))\n",
    "    if m == 2:\n",
    "        ax = fig.add_subplot()\n",
    "        ax.scatter(map_result[:,0], map_result[:,1],c=membership)\n",
    "        ax.set_xlim(ax_min,ax_max)\n",
    "        ax.set_ylim(ax_min,ax_max)\n",
    "        if annotate:\n",
    "            for (label,x,y) in zip(keywords_list,map_result[:,0],map_result[:,1]):\n",
    "                plt.annotate(label, (x, y))\n",
    "        if node:\n",
    "            id = keywords_list.index(node)\n",
    "            plt.scatter(map_result[id,0],map_result[id,1],color=\"red\")\n",
    "            plt.annotate(node, (map_result[id,0], map_result[id,1]))\n",
    "        plt.show\n",
    "    else:\n",
    "        ax = plt.axes(projection='3d')\n",
    "        ax.scatter3D(map_result[:,0], map_result[:,1], map_result[:,2])\n",
    "        ax.set_xlim(ax_min,ax_max)\n",
    "        ax.set_ylim(ax_min,ax_max)\n",
    "        ax.set_zlim(ax_min,ax_max)\n",
    "        if node:\n",
    "            id = keywords_list.index(node)\n",
    "            ax.scatter3D(map_result[id,0],map_result[id,1],map_result[id,2],color=\"red\")\n",
    "        '''for (label,x,y,z) in zip(keywords_list,map_result[:,0],map_result[:,1],map_result[:,2]):\n",
    "            plt.annotate(label, (x,y,z))'''\n",
    "        plt.show"
   ]
  },
  {
   "cell_type": "code",
   "execution_count": 9,
   "metadata": {},
   "outputs": [],
   "source": [
    "import fastmap_graphs as fmg\n",
    "from dynFM import compute_rotation_matrix"
   ]
  },
  {
   "cell_type": "markdown",
   "metadata": {},
   "source": [
    "# Patching"
   ]
  },
  {
   "cell_type": "code",
   "execution_count": 11,
   "metadata": {},
   "outputs": [],
   "source": [
    "import gurobipy as gp\n",
    "from gurobipy import GRB"
   ]
  },
  {
   "cell_type": "code",
   "execution_count": 10,
   "metadata": {},
   "outputs": [
    {
     "data": {
      "text/plain": [
       "<module 'fastmap_graphs' from 'c:\\\\Users\\\\ruiji\\\\Documents\\\\USC\\\\Research\\\\PHY760\\\\Notes\\\\fastmap_graphs.py'>"
      ]
     },
     "execution_count": 10,
     "metadata": {},
     "output_type": "execute_result"
    }
   ],
   "source": [
    "import importlib\n",
    "importlib.reload(fmg)"
   ]
  },
  {
   "cell_type": "code",
   "execution_count": 12,
   "metadata": {},
   "outputs": [],
   "source": [
    "def Gurobi_Patch_Solver(Z0,X1):\n",
    "    K = Z0.shape[1]\n",
    "    N = Z0.shape[0]\n",
    "    m = gp.Model(\"Patching\") # Create Model\n",
    "    m.params.NonConvex = 2\n",
    "    m.params.LogToConsole = 0\n",
    "    A = m.addMVar((K,K))\n",
    "    b = m.addMVar(K)\n",
    "    Y = m.addMVar((N,K), lb=-GRB.INFINITY, name='Y')\n",
    "    m.addConstrs((Y[j] == sum([X1[j][i] * A[:,i] for i in range(K)])+b-Z0[j] for j in range(N)), name='set_Y')\n",
    "    m.addConstrs((A[:,i]@A[:,i]==1 for i in range(K)), name='set A linear trans')\n",
    "    for i in range(K):\n",
    "        for j in range(i+1,K):\n",
    "            m.addConstr((A[:,i]@A[:,j]==0), name=f'set A orthogonal_{i}_{j}')\n",
    "    m.update()\n",
    "    #m.setObjective(sum([Y[i,:] @ Y[i,:] for i in range(N)]), GRB.MINIMIZE)\n",
    "    obj = sum(Y[i] @ Y[i] for i in range(N))\n",
    "    m.setObjective(obj, GRB.MINIMIZE)\n",
    "    m.optimize()\n",
    "    beta = np.mean(Z0-X1,axis = 0)\n",
    "    print(beta)\n",
    "    Z1 = X1@A.X+beta\n",
    "    return Z1"
   ]
  },
  {
   "cell_type": "code",
   "execution_count": 13,
   "metadata": {},
   "outputs": [
    {
     "name": "stderr",
     "output_type": "stream",
     "text": [
      "C:\\Users\\ruiji\\AppData\\Local\\Temp/ipykernel_23628/1179480307.py:3: DeprecationWarning: Sampling from a set deprecated\n",
      "since Python 3.9 and will be removed in a subsequent version.\n",
      "  random_source_nodes = random.sample(graph.nodes,N)\n"
     ]
    },
    {
     "name": "stdout",
     "output_type": "stream",
     "text": [
      "***FMBM cost for 200: 152.59118628501892\n",
      "***FMBM cost for 200: 164.0543191432953\n",
      "***FMBM cost for 200: 100.26970028877258\n",
      "Set parameter Username\n",
      "Academic license - for non-commercial use only - expires 2023-06-30\n",
      "Set parameter NonConvex to value 2\n",
      "[-443.78803904 1290.45716265 -473.40424169]\n",
      "***DFM cost for 200: 0.9171020984649658\n",
      "Set parameter NonConvex to value 2\n",
      "[ -298.96404816  2633.04859023 -1854.17876608]\n",
      "***DFM cost for 200: 0.7400736808776855\n"
     ]
    },
    {
     "name": "stderr",
     "output_type": "stream",
     "text": [
      "C:\\Users\\ruiji\\AppData\\Local\\Temp/ipykernel_23628/1179480307.py:3: DeprecationWarning: Sampling from a set deprecated\n",
      "since Python 3.9 and will be removed in a subsequent version.\n",
      "  random_source_nodes = random.sample(graph.nodes,N)\n"
     ]
    },
    {
     "name": "stdout",
     "output_type": "stream",
     "text": [
      "***FMBM cost for 500: 295.68598771095276\n",
      "***FMBM cost for 500: 155.03143572807312\n",
      "***FMBM cost for 500: 387.6433403491974\n",
      "Set parameter NonConvex to value 2\n",
      "[-436.99070392 -307.30085804 -441.66385028]\n",
      "***DFM cost for 500: 2.246034622192383\n",
      "Set parameter NonConvex to value 2\n",
      "[-369.38703929 -187.35771771 -192.78658917]\n",
      "***DFM cost for 500: 2.2099626064300537\n"
     ]
    },
    {
     "name": "stderr",
     "output_type": "stream",
     "text": [
      "C:\\Users\\ruiji\\AppData\\Local\\Temp/ipykernel_23628/1179480307.py:3: DeprecationWarning: Sampling from a set deprecated\n",
      "since Python 3.9 and will be removed in a subsequent version.\n",
      "  random_source_nodes = random.sample(graph.nodes,N)\n"
     ]
    },
    {
     "name": "stdout",
     "output_type": "stream",
     "text": [
      "***FMBM cost for 1000: 495.8780519962311\n",
      "***FMBM cost for 1000: 820.4001131057739\n",
      "***FMBM cost for 1000: 955.609071969986\n",
      "Set parameter NonConvex to value 2\n",
      "[ 50.41887623 153.07840649 625.09413617]\n",
      "***DFM cost for 1000: 4.4975831508636475\n",
      "Set parameter NonConvex to value 2\n",
      "[-143.48112228   35.43000852  394.6553152 ]\n",
      "***DFM cost for 1000: 4.130925416946411\n"
     ]
    },
    {
     "name": "stderr",
     "output_type": "stream",
     "text": [
      "C:\\Users\\ruiji\\AppData\\Local\\Temp/ipykernel_23628/1179480307.py:3: DeprecationWarning: Sampling from a set deprecated\n",
      "since Python 3.9 and will be removed in a subsequent version.\n",
      "  random_source_nodes = random.sample(graph.nodes,N)\n"
     ]
    },
    {
     "name": "stdout",
     "output_type": "stream",
     "text": [
      "***FMBM cost for 2000: 2070.6970884799957\n",
      "***FMBM cost for 2000: 1957.7727122306824\n",
      "***FMBM cost for 2000: 1775.5956885814667\n",
      "Set parameter NonConvex to value 2\n",
      "[-130.6103995   119.40650548   71.16243204]\n",
      "***DFM cost for 2000: 11.905152082443237\n",
      "Set parameter NonConvex to value 2\n",
      "[-179.61450189  -41.00624306  239.8204935 ]\n",
      "***DFM cost for 2000: 10.826496362686157\n"
     ]
    },
    {
     "name": "stderr",
     "output_type": "stream",
     "text": [
      "C:\\Users\\ruiji\\AppData\\Local\\Temp/ipykernel_23628/1179480307.py:3: DeprecationWarning: Sampling from a set deprecated\n",
      "since Python 3.9 and will be removed in a subsequent version.\n",
      "  random_source_nodes = random.sample(graph.nodes,N)\n"
     ]
    },
    {
     "name": "stdout",
     "output_type": "stream",
     "text": [
      "***FMBM cost for 4000: 5668.593617200851\n",
      "***FMBM cost for 4000: 5729.245294570923\n",
      "***FMBM cost for 4000: 5905.7825264930725\n",
      "Set parameter NonConvex to value 2\n",
      "[  98.59028252 -243.87323069   13.32148079]\n",
      "***DFM cost for 4000: 36.63773202896118\n",
      "Set parameter NonConvex to value 2\n",
      "[ 229.73422564 -349.05372879 -222.08134322]\n",
      "***DFM cost for 4000: 30.658745765686035\n"
     ]
    }
   ],
   "source": [
    "K, e, T, M, isBM, times = 3, 0.001, 10, 4, True, 10\n",
    "k_clusters = 3\n",
    "time_measure = {\"params\":{\"K\":K, \"e\":e, \"T\":T, \"M\":M, \"isBM\":isBM, \"times\":times}}\n",
    "for size in [200,500,1000,2000,4000]:\n",
    "    time_measure[size] = {}\n",
    "    test_nets = gen_rand_subgraphs(FB_Net,N=3,size=size)\n",
    "    with open(f'../Data/FMBM_size{size}_net.pickle','wb') as handle:\n",
    "        pickle.dump(test_nets,handle)\n",
    "\n",
    "    ## FMBM\n",
    "    t_cost_sum = []\n",
    "    fm_embeddings = []\n",
    "    for test_net in test_nets:\n",
    "        test_adj_mat = nx.adjacency_matrix(test_net)\n",
    "        t_start = time()\n",
    "        labels, score, runtime, G, fm_embedding = fmg.bestscore_choice(test_adj_mat, K, e, k_clusters, T, times, isBM)\n",
    "        t_cost = time()-t_start\n",
    "        t_cost_sum.append(t_cost)\n",
    "        print(f\"***FMBM cost for {size}: {t_cost}\")\n",
    "        fm_embeddings.append(fm_embedding)\n",
    "    time_measure[size][\"fmbm\"] = sum(t_cost_sum)/len(t_cost_sum)\n",
    "    with open(f'../Data/FMBM_size{size}_emb.pickle','wb') as handle:\n",
    "        pickle.dump(fm_embeddings,handle)\n",
    "    \n",
    "    ## Patching\n",
    "    t_cost_sum = []\n",
    "    Z0 = fm_embeddings[0]\n",
    "    patched_subnets = [fm_embeddings[0]]\n",
    "    for X1 in fm_embeddings[1:]:\n",
    "        t_start = time()\n",
    "        Z1 = Gurobi_Patch_Solver(Z0,X1)\n",
    "        t_cost = time()-t_start\n",
    "        t_cost_sum.append(t_cost)\n",
    "        print(f\"***DFM cost for {size}: {t_cost}\")\n",
    "        patched_subnets.append(Z1)\n",
    "        Z0 = Z1\n",
    "    time_measure[size][\"dfm\"] = sum(t_cost_sum)/len(t_cost_sum)\n",
    "    with open(f'../Data/DFM_size{size}_emb.pickle','wb') as handle:\n",
    "        pickle.dump(patched_subnets,handle)\n",
    "\n",
    "with open(f'../Data/time_measure.pickle','wb') as handle:\n",
    "        pickle.dump(time_measure,handle)"
   ]
  },
  {
   "cell_type": "code",
   "execution_count": 15,
   "metadata": {},
   "outputs": [],
   "source": [
    "time_measure[\"params\"] = {\"K\":K, \"e\":e, \"T\":T, \"M\":M, \"isBM\":isBM, \"times\":times}\n",
    "with open(f'../Data/time_measure.pickle','wb') as handle:\n",
    "        pickle.dump(time_measure,handle)"
   ]
  },
  {
   "cell_type": "code",
   "execution_count": 16,
   "metadata": {},
   "outputs": [
    {
     "data": {
      "text/plain": [
       "{200: {'fmbm': 138.97173523902893, 'dfm': 0.8285878896713257},\n",
       " 500: {'fmbm': 279.4535879294078, 'dfm': 2.2279986143112183},\n",
       " 1000: {'fmbm': 757.2957456906637, 'dfm': 4.314254283905029},\n",
       " 2000: {'fmbm': 1934.6884964307148, 'dfm': 11.365824222564697},\n",
       " 4000: {'fmbm': 5767.873812754949, 'dfm': 33.64823889732361},\n",
       " 'params': {'K': 3, 'e': 0.001, 'T': 10, 'M': 4, 'isBM': True, 'times': 10}}"
      ]
     },
     "execution_count": 16,
     "metadata": {},
     "output_type": "execute_result"
    }
   ],
   "source": [
    "time_measure"
   ]
  }
 ],
 "metadata": {
  "kernelspec": {
   "display_name": "Python 3.9.7 ('base')",
   "language": "python",
   "name": "python3"
  },
  "language_info": {
   "codemirror_mode": {
    "name": "ipython",
    "version": 3
   },
   "file_extension": ".py",
   "mimetype": "text/x-python",
   "name": "python",
   "nbconvert_exporter": "python",
   "pygments_lexer": "ipython3",
   "version": "3.9.7"
  },
  "orig_nbformat": 4,
  "vscode": {
   "interpreter": {
    "hash": "53b2209416faf674eb4ab5e4b2e84a9c401545b7f4f7c35fcf464c7be0af7101"
   }
  }
 },
 "nbformat": 4,
 "nbformat_minor": 2
}
